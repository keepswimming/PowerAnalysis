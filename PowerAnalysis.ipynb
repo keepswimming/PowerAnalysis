{
  "nbformat": 4,
  "nbformat_minor": 0,
  "metadata": {
    "colab": {
      "provenance": []
    },
    "kernelspec": {
      "name": "python3",
      "display_name": "Python 3"
    },
    "language_info": {
      "name": "python"
    }
  },
  "cells": [
    {
      "cell_type": "markdown",
      "source": [
        "**Factors of Power Analysis to Consider:**\n",
        "\n",
        "**Effect Size**: This is the magnitude of the difference you expect to detect between groups. Larger effect sizes generally require smaller sample sizes to achieve the same power.\n",
        "\n",
        "**Significance Level (α)**: This is the probability of rejecting the null hypothesis when it is true (Type I error). Commonly used significance levels are 0.05 or 0.01.\n",
        "\n",
        "**Power (1 - β)**: This is the probability of correctly rejecting the null hypothesis when it is false (i.e., detecting a true effect). A common target for power is 0.8 (80%).\n",
        "\n",
        "**Sample Size**: The number of observations in each group. Larger sample sizes increase the power of the test.\n",
        "\n",
        "**Variability (Standard Deviation)**: The amount of variability in the data. Higher variability can reduce power, requiring larger sample sizes to detect the same effect.\n",
        "\n",
        "**Test Type**: The type of statistical test you are using (e.g., t-test, chi-square test). Different tests have different power characteristics.\n",
        "One-tailed vs. **Two-tailed Tests: One-tailed tests have more power to detect an effect in one direction, while two-tailed tests are more conservative and can detect effects in both directions.**\n",
        "\n",
        "**Assumptions**: Ensure that the assumptions of the statistical test are met (e.g., normality, homogeneity of variance).\n",
        "\n",
        "**Practical Considerations**: Consider the feasibility of collecting the required sample size, ethical considerations, and the potential impact of the findings."
      ],
      "metadata": {
        "id": "ZfBSQNyH06Q_"
      }
    },
    {
      "cell_type": "code",
      "source": [
        "#Import library\n",
        "\n",
        "import statsmodels.stats.power as smp"
      ],
      "metadata": {
        "id": "5sSOc3R21k6_"
      },
      "execution_count": 1,
      "outputs": []
    },
    {
      "cell_type": "code",
      "source": [
        "#Power analysis for a chi-square test\n",
        "\n",
        "# Define parameters\n",
        "effect_size = 0.3  # Example effect size (Cohen's w)\n",
        "alpha = 0.05       # Significance level\n",
        "power = 0.8        # Desired power\n",
        "n_bins = 20        # Number of bins/categories\n",
        "\n",
        "# Calculate the required sample size\n",
        "sample_size = smp.GofChisquarePower().solve_power(effect_size=effect_size, nobs=None, alpha=alpha, power=power, n_bins=n_bins)\n",
        "\n",
        "print(\"For 80% power, sample size required = {:.2f}\".format(sample_size))\n"
      ],
      "metadata": {
        "colab": {
          "base_uri": "https://localhost:8080/"
        },
        "id": "u5TeIRTp1RQK",
        "outputId": "7486a352-bb78-4258-8e7a-fa6c59cd0b45"
      },
      "execution_count": 13,
      "outputs": [
        {
          "output_type": "stream",
          "name": "stdout",
          "text": [
            "For 80% power, sample size required = 228.39\n"
          ]
        }
      ]
    },
    {
      "cell_type": "code",
      "source": [
        "#Power analysis for two-tailed t-test\n",
        "\n",
        "# Define parameters\n",
        "effect_size = 0.5  # Example effect size (Cohen's d)\n",
        "alpha = 0.05       # Significance level\n",
        "power = 0.8        # Desired power\n",
        "\n",
        "# Calculate the required sample size for a two-tailed test\n",
        "sample_size = smp.tt_ind_solve_power(effect_size=effect_size, alpha=alpha, power=power, alternative='two-sided')\n",
        "\n",
        "print(\"For 80% power, sample size required = {:.2f}\".format(sample_size))\n"
      ],
      "metadata": {
        "colab": {
          "base_uri": "https://localhost:8080/"
        },
        "id": "XtBm8phR31Ho",
        "outputId": "6d46d11f-772d-47a2-adeb-8217385f40cd"
      },
      "execution_count": 3,
      "outputs": [
        {
          "output_type": "stream",
          "name": "stdout",
          "text": [
            "For 80% power, sample size required = 63.77\n"
          ]
        }
      ]
    },
    {
      "cell_type": "code",
      "source": [
        "#Power Analysis for Logistic Regression\n",
        "\n",
        "# Define parameters\n",
        "effect_size = 0.3  # Example effect size (Cohen's f^2)\n",
        "alpha = 0.05       # Significance level\n",
        "power = 0.8        # Desired power\n",
        "\n",
        "# Calculate the required sample size\n",
        "sample_size = smp.NormalIndPower().solve_power(effect_size=effect_size, alpha=alpha, power=power, alternative='two-sided')\n",
        "\n",
        "print(\"For 80% power, sample size required = {:.2f}\".format(sample_size))\n"
      ],
      "metadata": {
        "colab": {
          "base_uri": "https://localhost:8080/"
        },
        "id": "C67me9N_5_cw",
        "outputId": "da5e1992-c5b9-4840-bcc1-93feeb5057bb"
      },
      "execution_count": 4,
      "outputs": [
        {
          "output_type": "stream",
          "name": "stdout",
          "text": [
            "For 80% power, sample size required = 174.42\n"
          ]
        }
      ]
    }
  ]
}